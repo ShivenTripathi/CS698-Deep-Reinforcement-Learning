{
 "cells": [
  {
   "cell_type": "markdown",
   "source": [
    "## Name: Shiven Tripathi\r\n",
    "## Roll No.: 190816\r\n",
    "## Email: shiven@iitk.ac.in"
   ],
   "metadata": {}
  },
  {
   "cell_type": "markdown",
   "source": [
    "# Problem 2: RME Optimal Policy via Dynamic Programming"
   ],
   "metadata": {}
  },
  {
   "cell_type": "code",
   "execution_count": 82,
   "source": [
    "!pip install -e ."
   ],
   "outputs": [
    {
     "output_type": "stream",
     "name": "stdout",
     "text": [
      "Obtaining file:///C:/Users/shive/OneDrive/Desktop/Sem%205/CS698/CS698-Deep-Reinforcement-Learning/MIDSEM/midsem\n",
      "Requirement already satisfied: gym in c:\\users\\shive\\appdata\\local\\programs\\python\\python39\\lib\\site-packages (from midsem==0.0.1) (0.19.0)\n",
      "Requirement already satisfied: numpy in c:\\users\\shive\\appdata\\local\\programs\\python\\python39\\lib\\site-packages (from midsem==0.0.1) (1.20.3)\n",
      "Requirement already satisfied: cloudpickle<1.7.0,>=1.2.0 in c:\\users\\shive\\appdata\\local\\programs\\python\\python39\\lib\\site-packages (from gym->midsem==0.0.1) (1.6.0)\n",
      "Installing collected packages: midsem\n",
      "  Attempting uninstall: midsem\n",
      "    Found existing installation: midsem 0.0.1\n",
      "    Uninstalling midsem-0.0.1:\n",
      "      Successfully uninstalled midsem-0.0.1\n",
      "  Running setup.py develop for midsem\n",
      "Successfully installed midsem-0.0.1\n"
     ]
    }
   ],
   "metadata": {}
  },
  {
   "cell_type": "code",
   "execution_count": 2,
   "source": [
    "import gym \r\n",
    "import numpy as np\r\n",
    "import matplotlib.pyplot as plt"
   ],
   "outputs": [],
   "metadata": {}
  },
  {
   "cell_type": "code",
   "execution_count": 3,
   "source": [
    "rme = gym.make('midsem.envs:RME-v0')\r\n",
    "rme.reset()\r\n",
    "rme.render()"
   ],
   "outputs": [
    {
     "output_type": "display_data",
     "data": {
      "image/png": "[encoded data removed]",
      "text/plain": [
       "<Figure size 432x288 with 1 Axes>"
      ]
     },
     "metadata": {
      "needs_background": "light"
     }
    }
   ],
   "metadata": {}
  },
  {
   "cell_type": "code",
   "execution_count": 4,
   "source": [
    "def PGen(env):\r\n",
    "    '''\r\n",
    "    '''\r\n",
    "    '''\r\n",
    "    self.LEFT = 0\r\n",
    "    self.RIGHT = 1\r\n",
    "    self.DOWN = 2\r\n",
    "    self.UP = 3\r\n",
    "    '''\r\n",
    "    P = {}\r\n",
    "    terminal_states = [env.hole_loc, env.goal_loc]\r\n",
    "    for state in range(env.observation_space.n):\r\n",
    "        P[state] = {}\r\n",
    "        x = state // env.cols\r\n",
    "        y = state % env.cols\r\n",
    "        for action in range(env.action_space.n):\r\n",
    "            P[state][action] = []\r\n",
    "            rounded = np.round((1-env.prob)/2,2)\r\n",
    "            if action is env.LEFT:\r\n",
    "                next_states = [(env.prob,env.movement(0,state)), (rounded,env.movement(2,state)) , (rounded,env.movement(3,state))]\r\n",
    "                for prob,next_state in next_states:\r\n",
    "                    terminal = False\r\n",
    "                    reward = env.step_reward\r\n",
    "                    if next_state in terminal_states:\r\n",
    "                        terminal = True\r\n",
    "                        if next_state == env.goal_loc:\r\n",
    "                            reward = env.goal_reward\r\n",
    "                        if next_state == env.hole_loc:\r\n",
    "                            reward = env.hole_reward\r\n",
    "                    P[state][action].append( (prob, next_state, reward, terminal) )\r\n",
    "            if action is env.RIGHT:\r\n",
    "                next_states = [(env.prob,env.movement(1,state)), (rounded,env.movement(2,state)) , (rounded,env.movement(3,state))]\r\n",
    "                for prob,next_state in next_states:\r\n",
    "                    terminal = False\r\n",
    "                    reward = env.step_reward\r\n",
    "                    if next_state in terminal_states:\r\n",
    "                        terminal = True\r\n",
    "                        if next_state == env.goal_loc:\r\n",
    "                            reward = env.goal_reward\r\n",
    "                        if next_state == env.hole_loc:\r\n",
    "                            reward = env.hole_reward\r\n",
    "                    P[state][action].append( (prob, next_state, reward, terminal) )\r\n",
    "            if action is env.DOWN:\r\n",
    "                next_states = [(env.prob,env.movement(2,state)), (rounded,env.movement(0,state)) , (rounded,env.movement(1,state))]\r\n",
    "                for prob,next_state in next_states:\r\n",
    "                    terminal = False\r\n",
    "                    reward = env.step_reward\r\n",
    "                    if next_state in terminal_states:\r\n",
    "                        terminal = True\r\n",
    "                        if next_state == env.goal_loc:\r\n",
    "                            reward = env.goal_reward\r\n",
    "                        if next_state == env.hole_loc:\r\n",
    "                            reward = env.hole_reward\r\n",
    "                    P[state][action].append( (prob, next_state, reward, terminal) )\r\n",
    "            if action is env.UP:\r\n",
    "                next_states = [(env.prob,env.movement(3,state)), (rounded,env.movement(0,state)) , (rounded,env.movement(1,state))]\r\n",
    "                for prob,next_state in next_states:\r\n",
    "                    terminal = False\r\n",
    "                    reward = env.step_reward\r\n",
    "                    if next_state in terminal_states:\r\n",
    "                        terminal = True\r\n",
    "                        if next_state == env.goal_loc:\r\n",
    "                            reward = env.goal_reward\r\n",
    "                        if next_state == env.hole_loc:\r\n",
    "                            reward = env.hole_reward\r\n",
    "                    P[state][action].append( (prob, next_state, reward, terminal) )\r\n",
    "\r\n",
    "    return P"
   ],
   "outputs": [],
   "metadata": {}
  },
  {
   "cell_type": "code",
   "execution_count": 5,
   "source": [
    "P = PGen(rme)\r\n",
    "\r\n",
    "for key, value in P.items():\r\n",
    "    print(key)\r\n",
    "    print(value)"
   ],
   "outputs": [
    {
     "output_type": "stream",
     "name": "stdout",
     "text": [
      "0\n",
      "{0: [(0.8, 0, -0.04, False), (0.1, 4, -0.04, False), (0.1, 0, -0.04, False)], 1: [(0.8, 1, -0.04, False), (0.1, 4, -0.04, False), (0.1, 0, -0.04, False)], 2: [(0.8, 4, -0.04, False), (0.1, 0, -0.04, False), (0.1, 1, -0.04, False)], 3: [(0.8, 0, -0.04, False), (0.1, 0, -0.04, False), (0.1, 1, -0.04, False)]}\n",
      "1\n",
      "{0: [(0.8, 0, -0.04, False), (0.1, 1, -0.04, False), (0.1, 1, -0.04, False)], 1: [(0.8, 2, -0.04, False), (0.1, 1, -0.04, False), (0.1, 1, -0.04, False)], 2: [(0.8, 1, -0.04, False), (0.1, 0, -0.04, False), (0.1, 2, -0.04, False)], 3: [(0.8, 1, -0.04, False), (0.1, 0, -0.04, False), (0.1, 2, -0.04, False)]}\n",
      "2\n",
      "{0: [(0.8, 1, -0.04, False), (0.1, 6, -0.04, False), (0.1, 2, -0.04, False)], 1: [(0.8, 3, 1, True), (0.1, 6, -0.04, False), (0.1, 2, -0.04, False)], 2: [(0.8, 6, -0.04, False), (0.1, 1, -0.04, False), (0.1, 3, 1, True)], 3: [(0.8, 2, -0.04, False), (0.1, 1, -0.04, False), (0.1, 3, 1, True)]}\n",
      "3\n",
      "{0: [(0.8, 2, -0.04, False), (0.1, 7, -1, True), (0.1, 3, 1, True)], 1: [(0.8, 3, 1, True), (0.1, 7, -1, True), (0.1, 3, 1, True)], 2: [(0.8, 7, -1, True), (0.1, 2, -0.04, False), (0.1, 3, 1, True)], 3: [(0.8, 3, 1, True), (0.1, 2, -0.04, False), (0.1, 3, 1, True)]}\n",
      "4\n",
      "{0: [(0.8, 4, -0.04, False), (0.1, 8, -0.04, False), (0.1, 0, -0.04, False)], 1: [(0.8, 4, -0.04, False), (0.1, 8, -0.04, False), (0.1, 0, -0.04, False)], 2: [(0.8, 8, -0.04, False), (0.1, 4, -0.04, False), (0.1, 4, -0.04, False)], 3: [(0.8, 0, -0.04, False), (0.1, 4, -0.04, False), (0.1, 4, -0.04, False)]}\n",
      "5\n",
      "{0: [(0.8, 4, -0.04, False), (0.1, 9, -0.04, False), (0.1, 1, -0.04, False)], 1: [(0.8, 6, -0.04, False), (0.1, 9, -0.04, False), (0.1, 1, -0.04, False)], 2: [(0.8, 9, -0.04, False), (0.1, 4, -0.04, False), (0.1, 6, -0.04, False)], 3: [(0.8, 1, -0.04, False), (0.1, 4, -0.04, False), (0.1, 6, -0.04, False)]}\n",
      "6\n",
      "{0: [(0.8, 6, -0.04, False), (0.1, 10, -0.04, False), (0.1, 2, -0.04, False)], 1: [(0.8, 7, -1, True), (0.1, 10, -0.04, False), (0.1, 2, -0.04, False)], 2: [(0.8, 10, -0.04, False), (0.1, 6, -0.04, False), (0.1, 7, -1, True)], 3: [(0.8, 2, -0.04, False), (0.1, 6, -0.04, False), (0.1, 7, -1, True)]}\n",
      "7\n",
      "{0: [(0.8, 6, -0.04, False), (0.1, 11, -0.04, False), (0.1, 3, 1, True)], 1: [(0.8, 7, -1, True), (0.1, 11, -0.04, False), (0.1, 3, 1, True)], 2: [(0.8, 11, -0.04, False), (0.1, 6, -0.04, False), (0.1, 7, -1, True)], 3: [(0.8, 3, 1, True), (0.1, 6, -0.04, False), (0.1, 7, -1, True)]}\n",
      "8\n",
      "{0: [(0.8, 8, -0.04, False), (0.1, 8, -0.04, False), (0.1, 4, -0.04, False)], 1: [(0.8, 9, -0.04, False), (0.1, 8, -0.04, False), (0.1, 4, -0.04, False)], 2: [(0.8, 8, -0.04, False), (0.1, 8, -0.04, False), (0.1, 9, -0.04, False)], 3: [(0.8, 4, -0.04, False), (0.1, 8, -0.04, False), (0.1, 9, -0.04, False)]}\n",
      "9\n",
      "{0: [(0.8, 8, -0.04, False), (0.1, 9, -0.04, False), (0.1, 9, -0.04, False)], 1: [(0.8, 10, -0.04, False), (0.1, 9, -0.04, False), (0.1, 9, -0.04, False)], 2: [(0.8, 9, -0.04, False), (0.1, 8, -0.04, False), (0.1, 10, -0.04, False)], 3: [(0.8, 9, -0.04, False), (0.1, 8, -0.04, False), (0.1, 10, -0.04, False)]}\n",
      "10\n",
      "{0: [(0.8, 9, -0.04, False), (0.1, 10, -0.04, False), (0.1, 6, -0.04, False)], 1: [(0.8, 11, -0.04, False), (0.1, 10, -0.04, False), (0.1, 6, -0.04, False)], 2: [(0.8, 10, -0.04, False), (0.1, 9, -0.04, False), (0.1, 11, -0.04, False)], 3: [(0.8, 6, -0.04, False), (0.1, 9, -0.04, False), (0.1, 11, -0.04, False)]}\n",
      "11\n",
      "{0: [(0.8, 10, -0.04, False), (0.1, 11, -0.04, False), (0.1, 7, -1, True)], 1: [(0.8, 11, -0.04, False), (0.1, 11, -0.04, False), (0.1, 7, -1, True)], 2: [(0.8, 11, -0.04, False), (0.1, 10, -0.04, False), (0.1, 11, -0.04, False)], 3: [(0.8, 7, -1, True), (0.1, 10, -0.04, False), (0.1, 11, -0.04, False)]}\n"
     ]
    }
   ],
   "metadata": {}
  },
  {
   "cell_type": "code",
   "execution_count": 6,
   "source": [
    "def policyEvaluation(env, pi, P, gamma=0.99, theta=10**-1):\r\n",
    "    v_old = np.zeros(env.observation_space.n)\r\n",
    "    while True:\r\n",
    "        v_new = np.zeros(env.observation_space.n)\r\n",
    "        for state in range(env.observation_space.n):\r\n",
    "            for action in range(env.action_space.n):\r\n",
    "                for p,next_state,reward,terminal in P[state][action]:\r\n",
    "                    if not terminal:\r\n",
    "                        v_new[state] += p * (reward + gamma * v_old[next_state])\r\n",
    "                v_new[state] += pi[state] * v_new[state]\r\n",
    "        if max(abs(v_new - v_old)) < theta:\r\n",
    "            break\r\n",
    "        v_old = v_new\r\n",
    "    return v_new"
   ],
   "outputs": [],
   "metadata": {}
  },
  {
   "cell_type": "code",
   "execution_count": 7,
   "source": [
    "def policyImprovement(env, v, P, gamma=0.99):\r\n",
    "    Q = np.zeros((env.observation_space.n, env.action_space.n))\r\n",
    "    pi = np.zeros(env.observation_space.n)\r\n",
    "\r\n",
    "    for state in range(env.observation_space.n):\r\n",
    "        for action in range(env.action_space.n):\r\n",
    "            for p,next_state,reward,terminal in P[state][action]:\r\n",
    "                if not terminal:\r\n",
    "                    Q[state][action] += p * (reward + gamma * v[next_state])\r\n",
    "    for state in range(env.observation_space.n):\r\n",
    "        pi[state] = np.argmax(Q[state])\r\n",
    "    return pi"
   ],
   "outputs": [],
   "metadata": {}
  },
  {
   "cell_type": "code",
   "execution_count": 8,
   "source": [
    "def policyIteration(env, P, gamma=0.99, theta=10**-1):\r\n",
    "    pi = np.zeros(env.observation_space.n)\r\n",
    "    while True:\r\n",
    "        pi_old = pi\r\n",
    "        v = policyEvaluation(env, pi, P, gamma, theta)\r\n",
    "        pi = policyImprovement(env, v, P, gamma)\r\n",
    "        if pi_old is pi:\r\n",
    "            return v,pi"
   ],
   "outputs": [],
   "metadata": {}
  },
  {
   "cell_type": "code",
   "execution_count": 18,
   "source": [
    "v,pi = policyIteration(rme, P, gamma=0.99, theta=10**-5)"
   ],
   "outputs": [
    {
     "output_type": "stream",
     "name": "stderr",
     "text": [
      "C:\\Users\\shive\\AppData\\Local\\Temp/ipykernel_1192/3145410198.py:10: RuntimeWarning: overflow encountered in double_scalars\n",
      "  v_new[state] += p * (reward + gamma * v_old[next_state])\n",
      "C:\\Users\\shive\\AppData\\Local\\Temp/ipykernel_1192/3145410198.py:11: RuntimeWarning: invalid value encountered in double_scalars\n",
      "  v_new[state] += pi[state] * v_new[state]\n"
     ]
    },
    {
     "output_type": "error",
     "ename": "KeyboardInterrupt",
     "evalue": "",
     "traceback": [
      "\u001b[1;31m---------------------------------------------------------------------------\u001b[0m",
      "\u001b[1;31mKeyboardInterrupt\u001b[0m                         Traceback (most recent call last)",
      "\u001b[1;32m~\\AppData\\Local\\Temp/ipykernel_1192/2756486097.py\u001b[0m in \u001b[0;36m<module>\u001b[1;34m\u001b[0m\n\u001b[1;32m----> 1\u001b[1;33m \u001b[0mv\u001b[0m\u001b[1;33m,\u001b[0m\u001b[0mpi\u001b[0m \u001b[1;33m=\u001b[0m \u001b[0mpolicyIteration\u001b[0m\u001b[1;33m(\u001b[0m\u001b[0mrme\u001b[0m\u001b[1;33m,\u001b[0m \u001b[0mP\u001b[0m\u001b[1;33m,\u001b[0m \u001b[0mgamma\u001b[0m\u001b[1;33m=\u001b[0m\u001b[1;36m0.99\u001b[0m\u001b[1;33m,\u001b[0m \u001b[0mtheta\u001b[0m\u001b[1;33m=\u001b[0m\u001b[1;36m10\u001b[0m\u001b[1;33m**\u001b[0m\u001b[1;33m-\u001b[0m\u001b[1;36m5\u001b[0m\u001b[1;33m)\u001b[0m\u001b[1;33m\u001b[0m\u001b[1;33m\u001b[0m\u001b[0m\n\u001b[0m",
      "\u001b[1;32m~\\AppData\\Local\\Temp/ipykernel_1192/2826598904.py\u001b[0m in \u001b[0;36mpolicyIteration\u001b[1;34m(env, P, gamma, theta)\u001b[0m\n\u001b[0;32m      3\u001b[0m     \u001b[1;32mwhile\u001b[0m \u001b[1;32mTrue\u001b[0m\u001b[1;33m:\u001b[0m\u001b[1;33m\u001b[0m\u001b[1;33m\u001b[0m\u001b[0m\n\u001b[0;32m      4\u001b[0m         \u001b[0mpi_old\u001b[0m \u001b[1;33m=\u001b[0m \u001b[0mpi\u001b[0m\u001b[1;33m\u001b[0m\u001b[1;33m\u001b[0m\u001b[0m\n\u001b[1;32m----> 5\u001b[1;33m         \u001b[0mv\u001b[0m \u001b[1;33m=\u001b[0m \u001b[0mpolicyEvaluation\u001b[0m\u001b[1;33m(\u001b[0m\u001b[0menv\u001b[0m\u001b[1;33m,\u001b[0m \u001b[0mpi\u001b[0m\u001b[1;33m,\u001b[0m \u001b[0mP\u001b[0m\u001b[1;33m,\u001b[0m \u001b[0mgamma\u001b[0m\u001b[1;33m,\u001b[0m \u001b[0mtheta\u001b[0m\u001b[1;33m)\u001b[0m\u001b[1;33m\u001b[0m\u001b[1;33m\u001b[0m\u001b[0m\n\u001b[0m\u001b[0;32m      6\u001b[0m         \u001b[0mpi\u001b[0m \u001b[1;33m=\u001b[0m \u001b[0mpolicyImprovement\u001b[0m\u001b[1;33m(\u001b[0m\u001b[0menv\u001b[0m\u001b[1;33m,\u001b[0m \u001b[0mv\u001b[0m\u001b[1;33m,\u001b[0m \u001b[0mP\u001b[0m\u001b[1;33m,\u001b[0m \u001b[0mgamma\u001b[0m\u001b[1;33m)\u001b[0m\u001b[1;33m\u001b[0m\u001b[1;33m\u001b[0m\u001b[0m\n\u001b[0;32m      7\u001b[0m \u001b[1;33m\u001b[0m\u001b[0m\n",
      "\u001b[1;32m~\\AppData\\Local\\Temp/ipykernel_1192/3145410198.py\u001b[0m in \u001b[0;36mpolicyEvaluation\u001b[1;34m(env, pi, P, gamma, theta)\u001b[0m\n\u001b[0;32m      9\u001b[0m                     \u001b[1;32mif\u001b[0m \u001b[1;32mnot\u001b[0m \u001b[0mterminal\u001b[0m\u001b[1;33m:\u001b[0m\u001b[1;33m\u001b[0m\u001b[1;33m\u001b[0m\u001b[0m\n\u001b[0;32m     10\u001b[0m                         \u001b[0mv_new\u001b[0m\u001b[1;33m[\u001b[0m\u001b[0mstate\u001b[0m\u001b[1;33m]\u001b[0m \u001b[1;33m+=\u001b[0m \u001b[0mp\u001b[0m \u001b[1;33m*\u001b[0m \u001b[1;33m(\u001b[0m\u001b[0mreward\u001b[0m \u001b[1;33m+\u001b[0m \u001b[0mgamma\u001b[0m \u001b[1;33m*\u001b[0m \u001b[0mv_old\u001b[0m\u001b[1;33m[\u001b[0m\u001b[0mnext_state\u001b[0m\u001b[1;33m]\u001b[0m\u001b[1;33m)\u001b[0m\u001b[1;33m\u001b[0m\u001b[1;33m\u001b[0m\u001b[0m\n\u001b[1;32m---> 11\u001b[1;33m                 \u001b[0mv_new\u001b[0m\u001b[1;33m[\u001b[0m\u001b[0mstate\u001b[0m\u001b[1;33m]\u001b[0m \u001b[1;33m+=\u001b[0m \u001b[0mpi\u001b[0m\u001b[1;33m[\u001b[0m\u001b[0mstate\u001b[0m\u001b[1;33m]\u001b[0m \u001b[1;33m*\u001b[0m \u001b[0mv_new\u001b[0m\u001b[1;33m[\u001b[0m\u001b[0mstate\u001b[0m\u001b[1;33m]\u001b[0m\u001b[1;33m\u001b[0m\u001b[1;33m\u001b[0m\u001b[0m\n\u001b[0m\u001b[0;32m     12\u001b[0m         \u001b[1;32mif\u001b[0m \u001b[0mmax\u001b[0m\u001b[1;33m(\u001b[0m\u001b[0mabs\u001b[0m\u001b[1;33m(\u001b[0m\u001b[0mv_new\u001b[0m \u001b[1;33m-\u001b[0m \u001b[0mv_old\u001b[0m\u001b[1;33m)\u001b[0m\u001b[1;33m)\u001b[0m \u001b[1;33m<\u001b[0m \u001b[0mtheta\u001b[0m\u001b[1;33m:\u001b[0m\u001b[1;33m\u001b[0m\u001b[1;33m\u001b[0m\u001b[0m\n\u001b[0;32m     13\u001b[0m             \u001b[1;32mbreak\u001b[0m\u001b[1;33m\u001b[0m\u001b[1;33m\u001b[0m\u001b[0m\n",
      "\u001b[1;31mKeyboardInterrupt\u001b[0m: "
     ]
    }
   ],
   "metadata": {}
  },
  {
   "cell_type": "code",
   "execution_count": 23,
   "source": [
    "def valueIteration(env, P, gamma=0.99, theta=10**-2):\r\n",
    "    v = np.zeros(env.observation_space.n)\r\n",
    "    pi = np.zeros(env.observation_space.n)\r\n",
    "    iterations = 0\r\n",
    "    while True:\r\n",
    "        iterations += 1\r\n",
    "        Q = np.zeros((env.observation_space.n, env.action_space.n))\r\n",
    "        for state in range(env.observation_space.n):\r\n",
    "            for action in range(env.action_space.n):\r\n",
    "                for p,next_state,reward,terminal in P[state][action]:\r\n",
    "                    if not terminal:\r\n",
    "                        Q[state][action] += p * (reward + gamma * v[next_state])\r\n",
    "        if max(np.abs(v-np.max(Q,axis=1))) < theta:\r\n",
    "            print(\"Converged in:\", iterations, \"iterations\")\r\n",
    "            break\r\n",
    "        v = np.max(Q, axis=1)\r\n",
    "        for state in range(env.observation_space.n):\r\n",
    "            pi[state] = np.argmax(Q[state])\r\n",
    "\r\n",
    "    return v,pi"
   ],
   "outputs": [],
   "metadata": {}
  },
  {
   "cell_type": "code",
   "execution_count": 25,
   "source": [
    "v,pi = valueIteration(rme, P, gamma=0.99, theta=10**-8)"
   ],
   "outputs": [
    {
     "output_type": "stream",
     "name": "stdout",
     "text": [
      "Converged in: 23 iterations\n"
     ]
    }
   ],
   "metadata": {}
  },
  {
   "cell_type": "code",
   "execution_count": 26,
   "source": [
    "print(v,pi)"
   ],
   "outputs": [
    {
     "output_type": "stream",
     "name": "stdout",
     "text": [
      "[-0.11536791 -0.06026492 -0.01052079  0.         -0.16380471 -0.0685644\n",
      " -0.01494177 -0.00547923 -0.15797005 -0.10873024 -0.05959805 -0.01542753] [1. 1. 1. 1. 3. 1. 1. 3. 1. 1. 1. 3.]\n"
     ]
    }
   ],
   "metadata": {}
  },
  {
   "cell_type": "code",
   "execution_count": 29,
   "source": [
    "print(np.reshape(pi,(3,4)))\r\n",
    "print(np.reshape(v,(3,4)))\r\n",
    "plt.matshow(np.reshape(v,(3,4)),cmap='gray')\r\n",
    "plt.title(\"Value Iteration, converged estimates\")\r\n",
    "plt.show()"
   ],
   "outputs": [
    {
     "output_type": "stream",
     "name": "stdout",
     "text": [
      "[[1. 1. 1. 1.]\n",
      " [3. 1. 1. 3.]\n",
      " [1. 1. 1. 3.]]\n",
      "[[-0.11536791 -0.06026492 -0.01052079  0.        ]\n",
      " [-0.16380471 -0.0685644  -0.01494177 -0.00547923]\n",
      " [-0.15797005 -0.10873024 -0.05959805 -0.01542753]]\n"
     ]
    },
    {
     "output_type": "display_data",
     "data": {
      "image/png": "[encoded data removed]",
      "text/plain": [
       "<Figure size 384x288 with 1 Axes>"
      ]
     },
     "metadata": {
      "needs_background": "light"
     }
    }
   ],
   "metadata": {}
  },
  {
   "cell_type": "code",
   "execution_count": 31,
   "source": [
    "rme.reset()\r\n",
    "s = rme.state\r\n",
    "terminal = False\r\n",
    "\r\n",
    "while not terminal:\r\n",
    "    rme.render()\r\n",
    "    a = pi[s]\r\n",
    "    s_, r, terminal,_ = rme.step(a)\r\n",
    "    s = s_\r\n",
    "rme.render()"
   ],
   "outputs": [
    {
     "output_type": "display_data",
     "data": {
      "image/png": "[encoded data removed]",
      "text/plain": [
       "<Figure size 432x288 with 1 Axes>"
      ]
     },
     "metadata": {
      "needs_background": "light"
     }
    },
    {
     "output_type": "display_data",
     "data": {
      "image/png": "[encoded data removed]",
      "text/plain": [
       "<Figure size 432x288 with 1 Axes>"
      ]
     },
     "metadata": {
      "needs_background": "light"
     }
    },
    {
     "output_type": "display_data",
     "data": {
      "image/png": "[encoded data removed]",
      "text/plain": [
       "<Figure size 432x288 with 1 Axes>"
      ]
     },
     "metadata": {
      "needs_background": "light"
     }
    },
    {
     "output_type": "display_data",
     "data": {
      "image/png": "[encoded data removed]",
      "text/plain": [
       "<Figure size 432x288 with 1 Axes>"
      ]
     },
     "metadata": {
      "needs_background": "light"
     }
    },
    {
     "output_type": "display_data",
     "data": {
      "image/png": "[encoded data removed]",
      "text/plain": [
       "<Figure size 432x288 with 1 Axes>"
      ]
     },
     "metadata": {
      "needs_background": "light"
     }
    },
    {
     "output_type": "display_data",
     "data": {
      "image/png": "[encoded data removed]",
      "text/plain": [
       "<Figure size 432x288 with 1 Axes>"
      ]
     },
     "metadata": {
      "needs_background": "light"
     }
    }
   ],
   "metadata": {}
  },
  {
   "cell_type": "code",
   "execution_count": null,
   "source": [],
   "outputs": [],
   "metadata": {}
  }
 ],
 "metadata": {
  "orig_nbformat": 4,
  "language_info": {
   "name": "python",
   "version": "3.9.7",
   "mimetype": "text/x-python",
   "codemirror_mode": {
    "name": "ipython",
    "version": 3
   },
   "pygments_lexer": "ipython3",
   "nbconvert_exporter": "python",
   "file_extension": ".py"
  },
  "kernelspec": {
   "name": "python3",
   "display_name": "Python 3.9.7 64-bit"
  },
  "interpreter": {
   "hash": "21b7ac2a93df17084dd08401c962578aed9f3e92e226d61ef4c7289e364b3b07"
  }
 },
 "nbformat": 4,
 "nbformat_minor": 2
}